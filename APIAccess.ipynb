{
 "cells": [
  {
   "cell_type": "code",
   "execution_count": 1,
   "source": [
    "from quantconnect.api import Api\n",
    "api = Api(169793, \"1ace2ae60c6a3e72c3193df794fad76b8250392a730174cb16b9f8d0a1096dfd\")\n",
    "p = api.list_projects()\n",
    "print(len(p['projects']))"
   ],
   "outputs": [
    {
     "output_type": "stream",
     "name": "stdout",
     "text": [
      "1\n"
     ]
    }
   ],
   "metadata": {}
  },
  {
   "cell_type": "code",
   "execution_count": 4,
   "source": [
    "startYear = 1998\n",
    "endYear = 2003\n",
    "interval = 5"
   ],
   "outputs": [],
   "metadata": {}
  },
  {
   "cell_type": "code",
   "execution_count": 5,
   "source": [
    "from stocksOutperformed import FindStocksThatOutperformed\n",
    "outperformers = FindStocksThatOutperformed(startYear, endYear, interval)"
   ],
   "outputs": [],
   "metadata": {}
  }
 ],
 "metadata": {
  "kernelspec": {
   "name": "python3",
   "display_name": "Python 3.8.8 64-bit"
  },
  "language_info": {
   "codemirror_mode": {
    "name": "ipython",
    "version": 3
   },
   "file_extension": ".py",
   "mimetype": "text/x-python",
   "name": "python",
   "nbconvert_exporter": "python",
   "pygments_lexer": "ipython3",
   "version": "3.8.8"
  },
  "interpreter": {
   "hash": "382782836899c8f2462de43be3a81a6d50330932d9f33790470d76425c61280f"
  }
 },
 "nbformat": 4,
 "nbformat_minor": 5
}